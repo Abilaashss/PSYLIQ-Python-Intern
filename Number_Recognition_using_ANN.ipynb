{
  "nbformat": 4,
  "nbformat_minor": 0,
  "metadata": {
    "colab": {
      "provenance": [],
      "gpuType": "T4"
    },
    "kernelspec": {
      "name": "python3",
      "display_name": "Python 3"
    },
    "language_info": {
      "name": "python"
    },
    "accelerator": "GPU"
  },
  "cells": [
    {
      "cell_type": "code",
      "execution_count": null,
      "metadata": {
        "id": "XZRJVTM_jpXl"
      },
      "outputs": [],
      "source": [
        "import numpy as np\n",
        "import pandas as pd\n",
        "from sklearn.datasets import load_digits"
      ]
    },
    {
      "cell_type": "code",
      "source": [
        "dataset = load_digits()"
      ],
      "metadata": {
        "id": "Mk4kXphCkAwr"
      },
      "execution_count": null,
      "outputs": []
    },
    {
      "cell_type": "code",
      "source": [
        "print(dataset.data)\n",
        "print(dataset.target)"
      ],
      "metadata": {
        "colab": {
          "base_uri": "https://localhost:8080/"
        },
        "id": "qli50QldkM5F",
        "outputId": "a765437b-e53b-456a-ba1c-6921e44c681e"
      },
      "execution_count": null,
      "outputs": [
        {
          "output_type": "stream",
          "name": "stdout",
          "text": [
            "[[ 0.  0.  5. ...  0.  0.  0.]\n",
            " [ 0.  0.  0. ... 10.  0.  0.]\n",
            " [ 0.  0.  0. ... 16.  9.  0.]\n",
            " ...\n",
            " [ 0.  0.  1. ...  6.  0.  0.]\n",
            " [ 0.  0.  2. ... 12.  0.  0.]\n",
            " [ 0.  0. 10. ... 12.  1.  0.]]\n",
            "[0 1 2 ... 8 9 8]\n"
          ]
        }
      ]
    },
    {
      "cell_type": "code",
      "source": [
        "print(dataset.data.shape)\n",
        "print(dataset.images.shape)"
      ],
      "metadata": {
        "colab": {
          "base_uri": "https://localhost:8080/"
        },
        "id": "6AzTGrS5kSUw",
        "outputId": "f02eceb6-6a61-4e7d-c7b5-f97246aaa31f"
      },
      "execution_count": null,
      "outputs": [
        {
          "output_type": "stream",
          "name": "stdout",
          "text": [
            "(1797, 64)\n",
            "(1797, 8, 8)\n"
          ]
        }
      ]
    },
    {
      "cell_type": "code",
      "source": [
        "import matplotlib.pyplot as plt\n",
        "plt.gray()\n",
        "plt.matshow(dataset.images[4])\n",
        "plt.show()\n",
        "dataset.images[4]"
      ],
      "metadata": {
        "colab": {
          "base_uri": "https://localhost:8080/",
          "height": 590
        },
        "id": "hJsqjpTBkW0r",
        "outputId": "0ddbc906-9af1-4f77-94c5-d263f419783a"
      },
      "execution_count": null,
      "outputs": [
        {
          "output_type": "display_data",
          "data": {
            "text/plain": [
              "<Figure size 640x480 with 0 Axes>"
            ]
          },
          "metadata": {}
        },
        {
          "output_type": "display_data",
          "data": {
            "text/plain": [
              "<Figure size 480x480 with 1 Axes>"
            ],
            "image/png": "[encoded data removed]"
          },
          "metadata": {}
        },
        {
          "output_type": "execute_result",
          "data": {
            "text/plain": [
              "array([[ 0.,  0.,  0.,  1., 11.,  0.,  0.,  0.],\n",
              "       [ 0.,  0.,  0.,  7.,  8.,  0.,  0.,  0.],\n",
              "       [ 0.,  0.,  1., 13.,  6.,  2.,  2.,  0.],\n",
              "       [ 0.,  0.,  7., 15.,  0.,  9.,  8.,  0.],\n",
              "       [ 0.,  5., 16., 10.,  0., 16.,  6.,  0.],\n",
              "       [ 0.,  4., 15., 16., 13., 16.,  1.,  0.],\n",
              "       [ 0.,  0.,  0.,  3., 15., 10.,  0.,  0.],\n",
              "       [ 0.,  0.,  0.,  2., 16.,  4.,  0.,  0.]])"
            ]
          },
          "metadata": {},
          "execution_count": 5
        }
      ]
    },
    {
      "cell_type": "code",
      "source": [
        "Y = dataset.target\n",
        "Y"
      ],
      "metadata": {
        "colab": {
          "base_uri": "https://localhost:8080/"
        },
        "id": "H3m2gOA1ofYt",
        "outputId": "d6185eb5-926d-4be1-9b28-65a4bedb2914"
      },
      "execution_count": null,
      "outputs": [
        {
          "output_type": "execute_result",
          "data": {
            "text/plain": [
              "array([0, 1, 2, ..., 8, 9, 8])"
            ]
          },
          "metadata": {},
          "execution_count": 9
        }
      ]
    },
    {
      "cell_type": "code",
      "source": [
        "X = dataset.images\n",
        "X.shape"
      ],
      "metadata": {
        "colab": {
          "base_uri": "https://localhost:8080/"
        },
        "id": "xSm-Jlp_Yenw",
        "outputId": "180033c1-7552-4874-ca18-cd284eb5ab70"
      },
      "execution_count": null,
      "outputs": [
        {
          "output_type": "execute_result",
          "data": {
            "text/plain": [
              "(1797, 8, 8)"
            ]
          },
          "metadata": {},
          "execution_count": 12
        }
      ]
    },
    {
      "cell_type": "code",
      "source": [
        "from sklearn.model_selection import train_test_split\n",
        "X_train, X_test, y_train, y_test = train_test_split(X, Y, test_size = 0.25, random_state = 0)\n",
        "print(X_train.shape)\n",
        "print(X_test.shape)\n"
      ],
      "metadata": {
        "colab": {
          "base_uri": "https://localhost:8080/"
        },
        "id": "9NjishN7ofcL",
        "outputId": "b929baad-a053-481d-fb16-4bfac0b4ac0f"
      },
      "execution_count": null,
      "outputs": [
        {
          "output_type": "stream",
          "name": "stdout",
          "text": [
            "(1347, 8, 8)\n",
            "(450, 8, 8)\n"
          ]
        }
      ]
    },
    {
      "cell_type": "code",
      "source": [
        "X_train = X_train.reshape(1347,8,8,1)"
      ],
      "metadata": {
        "id": "-PBcNqBuY1xp"
      },
      "execution_count": null,
      "outputs": []
    },
    {
      "cell_type": "code",
      "source": [
        "X_test = X_test.reshape(450,8,8,1)"
      ],
      "metadata": {
        "id": "IYpOP1vra6AL"
      },
      "execution_count": null,
      "outputs": []
    },
    {
      "cell_type": "code",
      "source": [
        "import tensorflow as tf\n",
        "model = tf.keras.models.Sequential([\n",
        "    tf.keras.layers.Dense(64,activation = \"relu\", input_shape = (8,8,1)),\n",
        "    tf.keras.layers.Flatten(),\n",
        "    tf.keras.layers.Dense(10,activation = \"softmax\")\n",
        "])\n"
      ],
      "metadata": {
        "id": "kR52keJXnIRf"
      },
      "execution_count": null,
      "outputs": []
    },
    {
      "cell_type": "code",
      "source": [
        "model.compile(optimizer = \"adam\", loss = \"sparse_categorical_crossentropy\", metrics = [\"accuracy\"])"
      ],
      "metadata": {
        "id": "twDp_6c5ZdCH"
      },
      "execution_count": null,
      "outputs": []
    },
    {
      "cell_type": "code",
      "source": [
        "model.fit(X_train,y_train,epochs = 20)"
      ],
      "metadata": {
        "colab": {
          "base_uri": "https://localhost:8080/"
        },
        "id": "16p1bOPsZnCf",
        "outputId": "485327b9-9a80-4cbe-c8df-baca0957cd3e"
      },
      "execution_count": null,
      "outputs": [
        {
          "output_type": "stream",
          "name": "stdout",
          "text": [
            "Epoch 1/20\n",
            "43/43 [==============================] - 1s 4ms/step - loss: 0.7094 - accuracy: 0.7996\n",
            "Epoch 2/20\n",
            "43/43 [==============================] - 0s 4ms/step - loss: 0.1805 - accuracy: 0.9503\n",
            "Epoch 3/20\n",
            "43/43 [==============================] - 0s 4ms/step - loss: 0.1290 - accuracy: 0.9644\n",
            "Epoch 4/20\n",
            "43/43 [==============================] - 0s 4ms/step - loss: 0.1284 - accuracy: 0.9629\n",
            "Epoch 5/20\n",
            "43/43 [==============================] - 0s 4ms/step - loss: 0.0953 - accuracy: 0.9755\n",
            "Epoch 6/20\n",
            "43/43 [==============================] - 0s 4ms/step - loss: 0.0712 - accuracy: 0.9829\n",
            "Epoch 7/20\n",
            "43/43 [==============================] - 0s 4ms/step - loss: 0.1408 - accuracy: 0.9540\n",
            "Epoch 8/20\n",
            "43/43 [==============================] - 0s 4ms/step - loss: 0.0736 - accuracy: 0.9800\n",
            "Epoch 9/20\n",
            "43/43 [==============================] - 0s 4ms/step - loss: 0.0539 - accuracy: 0.9829\n",
            "Epoch 10/20\n",
            "43/43 [==============================] - 0s 4ms/step - loss: 0.0514 - accuracy: 0.9829\n",
            "Epoch 11/20\n",
            "43/43 [==============================] - 0s 4ms/step - loss: 0.0331 - accuracy: 0.9926\n",
            "Epoch 12/20\n",
            "43/43 [==============================] - 0s 4ms/step - loss: 0.0304 - accuracy: 0.9955\n",
            "Epoch 13/20\n",
            "43/43 [==============================] - 0s 4ms/step - loss: 0.0297 - accuracy: 0.9926\n",
            "Epoch 14/20\n",
            "43/43 [==============================] - 0s 4ms/step - loss: 0.0319 - accuracy: 0.9881\n",
            "Epoch 15/20\n",
            "43/43 [==============================] - 0s 4ms/step - loss: 0.0315 - accuracy: 0.9926\n",
            "Epoch 16/20\n",
            "43/43 [==============================] - 0s 3ms/step - loss: 0.0951 - accuracy: 0.9673\n",
            "Epoch 17/20\n",
            "43/43 [==============================] - 0s 3ms/step - loss: 0.0516 - accuracy: 0.9814\n",
            "Epoch 18/20\n",
            "43/43 [==============================] - 0s 3ms/step - loss: 0.0362 - accuracy: 0.9881\n",
            "Epoch 19/20\n",
            "43/43 [==============================] - 0s 3ms/step - loss: 0.0237 - accuracy: 0.9948\n",
            "Epoch 20/20\n",
            "43/43 [==============================] - 0s 3ms/step - loss: 0.0134 - accuracy: 0.9985\n"
          ]
        },
        {
          "output_type": "execute_result",
          "data": {
            "text/plain": [
              "<keras.src.callbacks.History at 0x7bea1cf6b280>"
            ]
          },
          "metadata": {},
          "execution_count": 40
        }
      ]
    },
    {
      "cell_type": "code",
      "source": [
        "Val_loss, Val_accuracy = model.evaluate(X_test,y_test)\n",
        "print(\"The accuracy of the Number recognition model is {} with a loss of {}\".format(Val_accuracy, Val_loss))"
      ],
      "metadata": {
        "colab": {
          "base_uri": "https://localhost:8080/"
        },
        "id": "XPqUCJR_ZtKw",
        "outputId": "cb843768-f595-4753-8d08-158ecf7ee148"
      },
      "execution_count": null,
      "outputs": [
        {
          "output_type": "stream",
          "name": "stdout",
          "text": [
            "15/15 [==============================] - 0s 3ms/step - loss: 0.1584 - accuracy: 0.9511\n",
            "The accuracy of the Number recognition model is 0.9511111378669739 with a loss of 0.1583726406097412\n"
          ]
        }
      ]
    }
  ]
}